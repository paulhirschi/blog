{
  "cells": [
    {
      "cell_type": "raw",
      "metadata": {},
      "source": [
        "---\n",
        "title: \"Discrete Distributions for Binary Data\"\n",
        "description: \"Binomial, Geometric, Negative Binomial, and Hypergeometric.\"\n",
        "author: \"Paul H\"\n",
        "date: \"2024-04-16\"\n",
        "categories: [statistics]\n",
        "---"
      ],
      "id": "42628535"
    },
    {
      "cell_type": "code",
      "metadata": {},
      "source": [
        "#| echo: false\n",
        "import matplotlib\n",
        "import matplotlib.pyplot as plt\n",
        "import numpy as np\n",
        "import seaborn as sns\n",
        "\n",
        "plt_aspect_wide = 16/10\n",
        "plt_aspect_tall = 10/16\n",
        "plt_aspect_square = 1/1\n",
        "plt_height = 5\n",
        "\n",
        "def get_plt_dems(ratio='w', height=5):\n",
        "    plt_aspect_wide = 16 / 10\n",
        "    plt_aspect_tall = 10 / 16\n",
        "    plt_aspect_square = 1 / 1\n",
        "\n",
        "    if ratio == 'w':\n",
        "        return (height * plt_aspect_wide, height)\n",
        "    if ratio == 't':\n",
        "        return (height * plt_aspect_tall, height)\n",
        "    if ratio == 's':\n",
        "        return (height * plt_aspect_square, height)\n",
        "\n",
        "colors = [\n",
        "    '#0755db',\n",
        "    '#c237be',\n",
        "    '#ff2b86',\n",
        "    '#ff6749',\n",
        "    '#ffa600',\n",
        "]\n",
        "\n",
        "gray = '#696e85'\n",
        "\n",
        "palette = sns.color_palette(colors)\n",
        "plt.style.use(\"ggplot\")"
      ],
      "id": "8940779a",
      "execution_count": null,
      "outputs": []
    },
    {
      "cell_type": "markdown",
      "metadata": {},
      "source": [
        "## Definitions:\n",
        "\n",
        "* **Discrete Variable:**\n",
        "* **Random Variable:**\n",
        "* **Probability Distribution:**\n"
      ],
      "id": "de18ec47"
    },
    {
      "cell_type": "code",
      "metadata": {},
      "source": [
        "from scipy.stats import binom\n",
        "\n",
        "\n",
        "\n",
        "n, p = 10, 0.1667\n",
        "scale = 0.0001\n",
        "\n",
        "x = np.arange(binom.ppf(scale, n, p),\n",
        "              binom.ppf(1 - scale, n, p), dtype=np.int8)\n",
        "\n",
        "fig, ax = plt.subplots(figsize=get_plt_dems())\n",
        "plt.suptitle('Binomial Distribution\\nn=10, p=0.1667')\n",
        "colors = [colors[0] if x >= 4 else gray for x in x]\n",
        "plot_args = {\n",
        "    'ax': ax,\n",
        "    'palette': colors,\n",
        "    'hue': x,\n",
        "    'legend': False,\n",
        "    'width': 0.9\n",
        "}\n",
        "sns.barplot(x=x, y=binom.pmf(x, n, p), **plot_args)\n",
        "ax.set_ylabel('Probability')\n",
        "ax.set_xlabel('Number of 6s')\n",
        "fig.tight_layout()\n",
        "plt.show()"
      ],
      "id": "dd55a128",
      "execution_count": null,
      "outputs": []
    }
  ],
  "metadata": {
    "kernelspec": {
      "name": "blog",
      "language": "python",
      "display_name": "blog"
    }
  },
  "nbformat": 4,
  "nbformat_minor": 5
}